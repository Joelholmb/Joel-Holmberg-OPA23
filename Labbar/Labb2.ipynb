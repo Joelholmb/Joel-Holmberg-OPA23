{
 "cells": [
  {
   "cell_type": "markdown",
   "metadata": {},
   "source": [
    "## Uppgifter\n",
    "Alla grafer ska exporteras till en undermapp som heter visualiseringar i ditt repo för labben. Exportera\n",
    "matplotlib/seaborngrafer i png-format och plotly-grafer som html-filer. Ge relevanta namn till dina filer så det blir lätt att\n",
    "referera till dem. Notera att du behöver ställa in bakgrundsfärg när du sparar matplotlibgrafer, annars blir de\n",
    "transparenta och svåra att läsa.\n",
    "Tänk på data storytelling, graferna du skapar ska ha lämpliga rubriker, labels, annoteringar, clutter ska tas bort, jobba\n",
    "med attention mha färger mm."
   ]
  },
  {
   "cell_type": "markdown",
   "metadata": {},
   "source": [
    "## Uppgift 0 - uppvärmning med riket\n",
    "- I den här uppgiften ska du visualisera med hjälp av matplotlib och/eller seaborn\n",
    "\n",
    "a) Börja med att läsa in filen riket2023_åk9_np.xlsx och sheets för de olika ämnena. Ändra kolumnnamnen på\n",
    "respektive dataframe så du får något liknande som nedan.\n",
    "\n",
    "\n",
    "\n",
    "\n"
   ]
  },
  {
   "cell_type": "code",
   "execution_count": null,
   "metadata": {},
   "outputs": [],
   "source": [
    "import pandas as pd\n",
    "\n",
    "# Definiera de ämnen (sheets) som läses in från Excel-filen\n",
    "subjects = [\"Engelska\", \"Matematik\", \"Svenska\", \"Svenska som andraspråk\"]\n",
    "\n",
    "excel_file = pd.ExcelFile(\"../data/riket2023_åk9_np.xlsx\")\n",
    "\n",
    "# Dictionary för att hålla DataFrames för varje ämne\n",
    "dataframes = {}\n",
    "\n",
    "# För varje ämne, läser in fliken och ändrar kolumnnamnen\n",
    "for subject in subjects:\n",
    "    # Läser in data från fliken för det aktuella ämnet\n",
    "    df_riket = excel_file.parse(sheet_name=subject, skiprows=8)\n",
    "    \n",
    "    # Tilldelar nya kolumnnamn\n",
    "    df_riket.columns = [\"Plats\", \"Huvudman\", \"Totalt\", \"Flickor (A-F)\", \"Pojkar (A-F)\",\n",
    "                  \"Totalt (A-E)\", \"Flickor (A-E)\", \"Pojkar (A-E)\",\n",
    "                  \"Totalt (poäng)\", \"Flickor (poäng)\", \"Pojkar (poäng)\"]\n",
    "    \n",
    "    # Sparar DataFrame i dictionary med ämnesnamnet som nyckel\n",
    "    dataframes[subject] = df_riket   \n",
    "\n",
    "(dataframes[\"Svenska\"])"
   ]
  },
  {
   "cell_type": "code",
   "execution_count": null,
   "metadata": {},
   "outputs": [],
   "source": [
    "# Data för betyg totalt men också i procentform för de som fått A-E. Där har jag också gjort om det till decimail så man kan räkna på det\n",
    "elevbetyg_totalt = 106766\n",
    "flickor_totalt_betyg = 51548\n",
    "pojkar_totalt_betyg = 55218\n",
    "betyg_A_E_totalt = 89.1 / 100\n",
    "betyg_A_E_flickor = 88.7 / 100\n",
    "betyg_A_E_pojkar = 89.5 / 100\n",
    "\n",
    "# Beräknar det faktiska antalet elever med A-E betyg\n",
    "betyg_A_E_totalt = elevbetyg_totalt * betyg_A_E_totalt\n",
    "betyg_A_E_flickor = flickor_totalt_betyg * betyg_A_E_flickor\n",
    "betyg_A_E_pojkar = pojkar_totalt_betyg * betyg_A_E_pojkar\n",
    "\n",
    "# Beräknar antalet elever med F betyg samt avrundar\n",
    "antal_F_totalt = round(elevbetyg_totalt - betyg_A_E_totalt)\n",
    "antal_F_flickor = round(flickor_totalt_betyg - betyg_A_E_flickor)\n",
    "antal_F_pojkar = round(pojkar_totalt_betyg - betyg_A_E_pojkar)\n",
    "\n",
    "resultat=print(f\"Totalt antal elever som har fått F i matematik: {antal_F_totalt}\\n\"\n",
    "        f\"Antal flickor som har fått F i matematik: {antal_F_flickor}\\n\"\n",
    "        f\"Antal pojkar som har fått F i matematik: {antal_F_pojkar}\")"
   ]
  },
  {
   "cell_type": "markdown",
   "metadata": {},
   "source": [
    "c) Rita ett stapeldiagram på totala poängen för de olika ämnena.\n"
   ]
  },
  {
   "cell_type": "code",
   "execution_count": null,
   "metadata": {},
   "outputs": [],
   "source": [
    "import matplotlib.pyplot as plt\n",
    "\n",
    "subjects = [\"Engelska\", \"Matematik\", \"Svenska\", \"Svenska som andraspråk\"]\n",
    "points = [15.7, 11.9, 13.6, 9.4]  \n",
    "\n",
    "plt.figure(figsize=(9, 5))\n",
    "plt.bar(subjects, points, color=\"Lightgreen\")\n",
    "plt.title('Totala poängen per ämne')\n",
    "plt.xlabel('Ämnen')\n",
    "plt.ylabel('Poäng')\n",
    "plt.show()"
   ]
  },
  {
   "cell_type": "markdown",
   "metadata": {},
   "source": [
    "d) Rita fyra olika stapeldiagram i subplots på totala poängen för de olika ämnena för de olika huvudmännen.\n"
   ]
  },
  {
   "cell_type": "code",
   "execution_count": null,
   "metadata": {},
   "outputs": [],
   "source": [
    "# Konvertera 'Totalt (poäng)' till flyttal för varje DataFrame\n",
    "for df in dataframes.values():\n",
    "    df[\"Totalt (poäng)\"] = pd.to_numeric(df[\"Totalt (poäng)\"], errors='coerce')\n",
    "\n",
    "# Skapar en figur och subplots för varje ämne\n",
    "fig, axs = plt.subplots(1, len(subjects), figsize=(20, 5))\n",
    "\n",
    "# Hittar det högsta värdet bland alla staplar i alla DataFrames\n",
    "max_y_value = max(df['Totalt (poäng)'].max() for df in dataframes.values()) + 5  # Lägger till 5 enheter\n",
    "\n",
    "\n",
    "# Itererar över varje ämne och skapar ett stapeldiagram i varje subplot\n",
    "for i, subject in enumerate(subjects):\n",
    "    df_subject = dataframes[subject]\n",
    "    # Vi grupperar data efter 'Huvudman' och beräknar summan av 'Totalt (poäng)'\n",
    "    df_grouped = df_subject.groupby(\"Huvudman\")[\"Totalt (poäng)\"].sum().reset_index()\n",
    "    # Skapar stapeldiagrammet\n",
    "    axs[i].bar(df_grouped[\"Huvudman\"], df_grouped[\"Totalt (poäng)\"])\n",
    "    axs[i].set_title(subject)\n",
    "    axs[i].set_xlabel(\"Huvudman\")\n",
    "    axs[i].set_ylim(0, max_y_value)  # Justerar y-axeln enligt det beräknade maxvärdet\n",
    "    if i == 0:  # Sätter y-axelns etikett endast för första subploten\n",
    "        axs[i].set_ylabel(\"Totalt (poäng)\")\n",
    "\n",
    "plt.tight_layout()\n",
    "plt.show()\n",
    "\n"
   ]
  },
  {
   "cell_type": "markdown",
   "metadata": {},
   "source": [
    "## Uppgift 1 - uppvärmning betyg och prov\n",
    "I uppgifterna nedan ska du använda dig av datasetet betyg_o_prov_riksnivå.xlsx. Använd Plotly för att rita diagrammen\n",
    "nedan för de uppgifter som kräver diagram. Använd Pandas för att svara på frågor om datasetet.\n"
   ]
  },
  {
   "cell_type": "markdown",
   "metadata": {},
   "source": [
    "a) Rita ett linjediagram för andel elever som saknar godkänt betyg i ett eller fler ämnen för läsår 18-23. Ta med totalt,\n",
    "flickor och pojkar i samma graf."
   ]
  },
  {
   "cell_type": "code",
   "execution_count": 65,
   "metadata": {},
   "outputs": [
    {
     "data": {
      "application/vnd.plotly.v1+json": {
       "config": {
        "plotlyServerURL": "https://plot.ly"
       },
       "data": [
        {
         "hovertemplate": "Kategori=Andel ej godkända Totalt<br>Läsår=%{x}<br>Andel ej godkända (%)=%{y}<extra></extra>",
         "legendgroup": "Andel ej godkända Totalt",
         "line": {
          "color": "#636efa",
          "dash": "solid"
         },
         "marker": {
          "symbol": "circle"
         },
         "mode": "lines",
         "name": "Andel ej godkända Totalt",
         "orientation": "h",
         "showlegend": true,
         "type": "scatter",
         "x": [
          2019,
          2020,
          2021,
          2022,
          2023
         ],
         "xaxis": "x",
         "y": [
          1.8344554736496654,
          1.9952531232883874,
          1.9104667451593782,
          2.14893175689691,
          2.1694172317478055
         ],
         "yaxis": "y"
        },
        {
         "hovertemplate": "Kategori=Andel ej godkända Flickor<br>Läsår=%{x}<br>Andel ej godkända (%)=%{y}<extra></extra>",
         "legendgroup": "Andel ej godkända Flickor",
         "line": {
          "color": "#EF553B",
          "dash": "solid"
         },
         "marker": {
          "symbol": "circle"
         },
         "mode": "lines",
         "name": "Andel ej godkända Flickor",
         "orientation": "h",
         "showlegend": true,
         "type": "scatter",
         "x": [
          2019,
          2020,
          2021,
          2022,
          2023
         ],
         "xaxis": "x",
         "y": [
          1.664623996195147,
          1.7226513382432196,
          1.7526227629374946,
          2.052535334028338,
          2.1374252663313165
         ],
         "yaxis": "y"
        },
        {
         "hovertemplate": "Kategori=Andel ej godkända Pojkar<br>Läsår=%{x}<br>Andel ej godkända (%)=%{y}<extra></extra>",
         "legendgroup": "Andel ej godkända Pojkar",
         "line": {
          "color": "#00cc96",
          "dash": "solid"
         },
         "marker": {
          "symbol": "circle"
         },
         "mode": "lines",
         "name": "Andel ej godkända Pojkar",
         "orientation": "h",
         "showlegend": true,
         "type": "scatter",
         "x": [
          2019,
          2020,
          2021,
          2022,
          2023
         ],
         "xaxis": "x",
         "y": [
          1.994351060898314,
          2.250939295402088,
          2.0605593186238336,
          2.2398890537315364,
          2.1997240317042643
         ],
         "yaxis": "y"
        }
       ],
       "layout": {
        "legend": {
         "title": {
          "text": "Kategori"
         },
         "tracegroupgap": 0
        },
        "template": {
         "data": {
          "bar": [
           {
            "error_x": {
             "color": "#2a3f5f"
            },
            "error_y": {
             "color": "#2a3f5f"
            },
            "marker": {
             "line": {
              "color": "#E5ECF6",
              "width": 0.5
             },
             "pattern": {
              "fillmode": "overlay",
              "size": 10,
              "solidity": 0.2
             }
            },
            "type": "bar"
           }
          ],
          "barpolar": [
           {
            "marker": {
             "line": {
              "color": "#E5ECF6",
              "width": 0.5
             },
             "pattern": {
              "fillmode": "overlay",
              "size": 10,
              "solidity": 0.2
             }
            },
            "type": "barpolar"
           }
          ],
          "carpet": [
           {
            "aaxis": {
             "endlinecolor": "#2a3f5f",
             "gridcolor": "white",
             "linecolor": "white",
             "minorgridcolor": "white",
             "startlinecolor": "#2a3f5f"
            },
            "baxis": {
             "endlinecolor": "#2a3f5f",
             "gridcolor": "white",
             "linecolor": "white",
             "minorgridcolor": "white",
             "startlinecolor": "#2a3f5f"
            },
            "type": "carpet"
           }
          ],
          "choropleth": [
           {
            "colorbar": {
             "outlinewidth": 0,
             "ticks": ""
            },
            "type": "choropleth"
           }
          ],
          "contour": [
           {
            "colorbar": {
             "outlinewidth": 0,
             "ticks": ""
            },
            "colorscale": [
             [
              0,
              "#0d0887"
             ],
             [
              0.1111111111111111,
              "#46039f"
             ],
             [
              0.2222222222222222,
              "#7201a8"
             ],
             [
              0.3333333333333333,
              "#9c179e"
             ],
             [
              0.4444444444444444,
              "#bd3786"
             ],
             [
              0.5555555555555556,
              "#d8576b"
             ],
             [
              0.6666666666666666,
              "#ed7953"
             ],
             [
              0.7777777777777778,
              "#fb9f3a"
             ],
             [
              0.8888888888888888,
              "#fdca26"
             ],
             [
              1,
              "#f0f921"
             ]
            ],
            "type": "contour"
           }
          ],
          "contourcarpet": [
           {
            "colorbar": {
             "outlinewidth": 0,
             "ticks": ""
            },
            "type": "contourcarpet"
           }
          ],
          "heatmap": [
           {
            "colorbar": {
             "outlinewidth": 0,
             "ticks": ""
            },
            "colorscale": [
             [
              0,
              "#0d0887"
             ],
             [
              0.1111111111111111,
              "#46039f"
             ],
             [
              0.2222222222222222,
              "#7201a8"
             ],
             [
              0.3333333333333333,
              "#9c179e"
             ],
             [
              0.4444444444444444,
              "#bd3786"
             ],
             [
              0.5555555555555556,
              "#d8576b"
             ],
             [
              0.6666666666666666,
              "#ed7953"
             ],
             [
              0.7777777777777778,
              "#fb9f3a"
             ],
             [
              0.8888888888888888,
              "#fdca26"
             ],
             [
              1,
              "#f0f921"
             ]
            ],
            "type": "heatmap"
           }
          ],
          "heatmapgl": [
           {
            "colorbar": {
             "outlinewidth": 0,
             "ticks": ""
            },
            "colorscale": [
             [
              0,
              "#0d0887"
             ],
             [
              0.1111111111111111,
              "#46039f"
             ],
             [
              0.2222222222222222,
              "#7201a8"
             ],
             [
              0.3333333333333333,
              "#9c179e"
             ],
             [
              0.4444444444444444,
              "#bd3786"
             ],
             [
              0.5555555555555556,
              "#d8576b"
             ],
             [
              0.6666666666666666,
              "#ed7953"
             ],
             [
              0.7777777777777778,
              "#fb9f3a"
             ],
             [
              0.8888888888888888,
              "#fdca26"
             ],
             [
              1,
              "#f0f921"
             ]
            ],
            "type": "heatmapgl"
           }
          ],
          "histogram": [
           {
            "marker": {
             "pattern": {
              "fillmode": "overlay",
              "size": 10,
              "solidity": 0.2
             }
            },
            "type": "histogram"
           }
          ],
          "histogram2d": [
           {
            "colorbar": {
             "outlinewidth": 0,
             "ticks": ""
            },
            "colorscale": [
             [
              0,
              "#0d0887"
             ],
             [
              0.1111111111111111,
              "#46039f"
             ],
             [
              0.2222222222222222,
              "#7201a8"
             ],
             [
              0.3333333333333333,
              "#9c179e"
             ],
             [
              0.4444444444444444,
              "#bd3786"
             ],
             [
              0.5555555555555556,
              "#d8576b"
             ],
             [
              0.6666666666666666,
              "#ed7953"
             ],
             [
              0.7777777777777778,
              "#fb9f3a"
             ],
             [
              0.8888888888888888,
              "#fdca26"
             ],
             [
              1,
              "#f0f921"
             ]
            ],
            "type": "histogram2d"
           }
          ],
          "histogram2dcontour": [
           {
            "colorbar": {
             "outlinewidth": 0,
             "ticks": ""
            },
            "colorscale": [
             [
              0,
              "#0d0887"
             ],
             [
              0.1111111111111111,
              "#46039f"
             ],
             [
              0.2222222222222222,
              "#7201a8"
             ],
             [
              0.3333333333333333,
              "#9c179e"
             ],
             [
              0.4444444444444444,
              "#bd3786"
             ],
             [
              0.5555555555555556,
              "#d8576b"
             ],
             [
              0.6666666666666666,
              "#ed7953"
             ],
             [
              0.7777777777777778,
              "#fb9f3a"
             ],
             [
              0.8888888888888888,
              "#fdca26"
             ],
             [
              1,
              "#f0f921"
             ]
            ],
            "type": "histogram2dcontour"
           }
          ],
          "mesh3d": [
           {
            "colorbar": {
             "outlinewidth": 0,
             "ticks": ""
            },
            "type": "mesh3d"
           }
          ],
          "parcoords": [
           {
            "line": {
             "colorbar": {
              "outlinewidth": 0,
              "ticks": ""
             }
            },
            "type": "parcoords"
           }
          ],
          "pie": [
           {
            "automargin": true,
            "type": "pie"
           }
          ],
          "scatter": [
           {
            "fillpattern": {
             "fillmode": "overlay",
             "size": 10,
             "solidity": 0.2
            },
            "type": "scatter"
           }
          ],
          "scatter3d": [
           {
            "line": {
             "colorbar": {
              "outlinewidth": 0,
              "ticks": ""
             }
            },
            "marker": {
             "colorbar": {
              "outlinewidth": 0,
              "ticks": ""
             }
            },
            "type": "scatter3d"
           }
          ],
          "scattercarpet": [
           {
            "marker": {
             "colorbar": {
              "outlinewidth": 0,
              "ticks": ""
             }
            },
            "type": "scattercarpet"
           }
          ],
          "scattergeo": [
           {
            "marker": {
             "colorbar": {
              "outlinewidth": 0,
              "ticks": ""
             }
            },
            "type": "scattergeo"
           }
          ],
          "scattergl": [
           {
            "marker": {
             "colorbar": {
              "outlinewidth": 0,
              "ticks": ""
             }
            },
            "type": "scattergl"
           }
          ],
          "scattermapbox": [
           {
            "marker": {
             "colorbar": {
              "outlinewidth": 0,
              "ticks": ""
             }
            },
            "type": "scattermapbox"
           }
          ],
          "scatterpolar": [
           {
            "marker": {
             "colorbar": {
              "outlinewidth": 0,
              "ticks": ""
             }
            },
            "type": "scatterpolar"
           }
          ],
          "scatterpolargl": [
           {
            "marker": {
             "colorbar": {
              "outlinewidth": 0,
              "ticks": ""
             }
            },
            "type": "scatterpolargl"
           }
          ],
          "scatterternary": [
           {
            "marker": {
             "colorbar": {
              "outlinewidth": 0,
              "ticks": ""
             }
            },
            "type": "scatterternary"
           }
          ],
          "surface": [
           {
            "colorbar": {
             "outlinewidth": 0,
             "ticks": ""
            },
            "colorscale": [
             [
              0,
              "#0d0887"
             ],
             [
              0.1111111111111111,
              "#46039f"
             ],
             [
              0.2222222222222222,
              "#7201a8"
             ],
             [
              0.3333333333333333,
              "#9c179e"
             ],
             [
              0.4444444444444444,
              "#bd3786"
             ],
             [
              0.5555555555555556,
              "#d8576b"
             ],
             [
              0.6666666666666666,
              "#ed7953"
             ],
             [
              0.7777777777777778,
              "#fb9f3a"
             ],
             [
              0.8888888888888888,
              "#fdca26"
             ],
             [
              1,
              "#f0f921"
             ]
            ],
            "type": "surface"
           }
          ],
          "table": [
           {
            "cells": {
             "fill": {
              "color": "#EBF0F8"
             },
             "line": {
              "color": "white"
             }
            },
            "header": {
             "fill": {
              "color": "#C8D4E3"
             },
             "line": {
              "color": "white"
             }
            },
            "type": "table"
           }
          ]
         },
         "layout": {
          "annotationdefaults": {
           "arrowcolor": "#2a3f5f",
           "arrowhead": 0,
           "arrowwidth": 1
          },
          "autotypenumbers": "strict",
          "coloraxis": {
           "colorbar": {
            "outlinewidth": 0,
            "ticks": ""
           }
          },
          "colorscale": {
           "diverging": [
            [
             0,
             "#8e0152"
            ],
            [
             0.1,
             "#c51b7d"
            ],
            [
             0.2,
             "#de77ae"
            ],
            [
             0.3,
             "#f1b6da"
            ],
            [
             0.4,
             "#fde0ef"
            ],
            [
             0.5,
             "#f7f7f7"
            ],
            [
             0.6,
             "#e6f5d0"
            ],
            [
             0.7,
             "#b8e186"
            ],
            [
             0.8,
             "#7fbc41"
            ],
            [
             0.9,
             "#4d9221"
            ],
            [
             1,
             "#276419"
            ]
           ],
           "sequential": [
            [
             0,
             "#0d0887"
            ],
            [
             0.1111111111111111,
             "#46039f"
            ],
            [
             0.2222222222222222,
             "#7201a8"
            ],
            [
             0.3333333333333333,
             "#9c179e"
            ],
            [
             0.4444444444444444,
             "#bd3786"
            ],
            [
             0.5555555555555556,
             "#d8576b"
            ],
            [
             0.6666666666666666,
             "#ed7953"
            ],
            [
             0.7777777777777778,
             "#fb9f3a"
            ],
            [
             0.8888888888888888,
             "#fdca26"
            ],
            [
             1,
             "#f0f921"
            ]
           ],
           "sequentialminus": [
            [
             0,
             "#0d0887"
            ],
            [
             0.1111111111111111,
             "#46039f"
            ],
            [
             0.2222222222222222,
             "#7201a8"
            ],
            [
             0.3333333333333333,
             "#9c179e"
            ],
            [
             0.4444444444444444,
             "#bd3786"
            ],
            [
             0.5555555555555556,
             "#d8576b"
            ],
            [
             0.6666666666666666,
             "#ed7953"
            ],
            [
             0.7777777777777778,
             "#fb9f3a"
            ],
            [
             0.8888888888888888,
             "#fdca26"
            ],
            [
             1,
             "#f0f921"
            ]
           ]
          },
          "colorway": [
           "#636efa",
           "#EF553B",
           "#00cc96",
           "#ab63fa",
           "#FFA15A",
           "#19d3f3",
           "#FF6692",
           "#B6E880",
           "#FF97FF",
           "#FECB52"
          ],
          "font": {
           "color": "#2a3f5f"
          },
          "geo": {
           "bgcolor": "white",
           "lakecolor": "white",
           "landcolor": "#E5ECF6",
           "showlakes": true,
           "showland": true,
           "subunitcolor": "white"
          },
          "hoverlabel": {
           "align": "left"
          },
          "hovermode": "closest",
          "mapbox": {
           "style": "light"
          },
          "paper_bgcolor": "white",
          "plot_bgcolor": "#E5ECF6",
          "polar": {
           "angularaxis": {
            "gridcolor": "white",
            "linecolor": "white",
            "ticks": ""
           },
           "bgcolor": "#E5ECF6",
           "radialaxis": {
            "gridcolor": "white",
            "linecolor": "white",
            "ticks": ""
           }
          },
          "scene": {
           "xaxis": {
            "backgroundcolor": "#E5ECF6",
            "gridcolor": "white",
            "gridwidth": 2,
            "linecolor": "white",
            "showbackground": true,
            "ticks": "",
            "zerolinecolor": "white"
           },
           "yaxis": {
            "backgroundcolor": "#E5ECF6",
            "gridcolor": "white",
            "gridwidth": 2,
            "linecolor": "white",
            "showbackground": true,
            "ticks": "",
            "zerolinecolor": "white"
           },
           "zaxis": {
            "backgroundcolor": "#E5ECF6",
            "gridcolor": "white",
            "gridwidth": 2,
            "linecolor": "white",
            "showbackground": true,
            "ticks": "",
            "zerolinecolor": "white"
           }
          },
          "shapedefaults": {
           "line": {
            "color": "#2a3f5f"
           }
          },
          "ternary": {
           "aaxis": {
            "gridcolor": "white",
            "linecolor": "white",
            "ticks": ""
           },
           "baxis": {
            "gridcolor": "white",
            "linecolor": "white",
            "ticks": ""
           },
           "bgcolor": "#E5ECF6",
           "caxis": {
            "gridcolor": "white",
            "linecolor": "white",
            "ticks": ""
           }
          },
          "title": {
           "x": 0.05
          },
          "xaxis": {
           "automargin": true,
           "gridcolor": "white",
           "linecolor": "white",
           "ticks": "",
           "title": {
            "standoff": 15
           },
           "zerolinecolor": "white",
           "zerolinewidth": 2
          },
          "yaxis": {
           "automargin": true,
           "gridcolor": "white",
           "linecolor": "white",
           "ticks": "",
           "title": {
            "standoff": 15
           },
           "zerolinecolor": "white",
           "zerolinewidth": 2
          }
         }
        },
        "title": {
         "text": "Andel elever utan godkända betyg"
        },
        "xaxis": {
         "anchor": "y",
         "domain": [
          0,
          1
         ],
         "dtick": 1,
         "range": [
          2018,
          2023
         ],
         "title": {
          "text": "Läsår"
         }
        },
        "yaxis": {
         "anchor": "x",
         "domain": [
          0,
          1
         ],
         "title": {
          "text": "Andel ej godkända (%)"
         }
        }
       }
      }
     },
     "metadata": {},
     "output_type": "display_data"
    }
   ],
   "source": [
    "import pandas as pd\n",
    "import plotly.express as px\n",
    "\n",
    "# Läs in din data\n",
    "df = pd.read_excel(\"../data/betyg_o_prov_riksnivå.xlsx\", skiprows=9)\n",
    "\n",
    "# Uppdatera kolumnnamnen\n",
    "df.columns = [\n",
    "    \"Läsår\", \n",
    "    \"Totalt antal elever\", \n",
    "    \"Flickor\", \n",
    "    \"Pojkar\", \n",
    "    \"Totalt antal elever med slutbetyg\", \n",
    "    \"Flickor med slutbetyg\", \n",
    "    \"Pojkar med slutbetyg\", \n",
    "    \"Totalt antal elever med godkända slutbetyg\", \n",
    "    \"Flickor med godkända slutbetyg\", \n",
    "    \"Pojkar med godkända slutbetyg\"\n",
    "]\n",
    "# Filtrera bort rader som inte matchar det förväntade läsårsformatet som t.ex. 2019/20\n",
    "df = df[df['Läsår'].str.contains('^\\d{4}/\\d{2}$', na=False)]\n",
    "\n",
    "# Extraherar startåret och lägger till 1 för att få slutåret\n",
    "df['Läsår'] = df['Läsår'].str.slice(0, 4).astype(int) + 1\n",
    "\n",
    "\n",
    "# Beräkna andelen elever utan godkända betyg\n",
    "df[\"Andel ej godkända Totalt\"] = (1 - df[\"Totalt antal elever med godkända slutbetyg\"] / df[\"Totalt antal elever\"]) * 100\n",
    "df[\"Andel ej godkända Flickor\"] = (1 - df[\"Flickor med godkända slutbetyg\"] / df[\"Flickor\"]) * 100\n",
    "df[\"Andel ej godkända Pojkar\"] = (1 - df[\"Pojkar med godkända slutbetyg\"] / df[\"Pojkar\"]) * 100\n",
    "\n",
    "# Skapar linjediagrammet\n",
    "fig = px.line(df, x=\"Läsår\", y=[\"Andel ej godkända Totalt\", \"Andel ej godkända Flickor\", \"Andel ej godkända Pojkar\"],\n",
    "              labels={\"value\": \"Andel ej godkända (%)\", \"variable\": \"Kategori\"},\n",
    "              title=\"Andel elever utan godkända betyg\")\n",
    "\n",
    "# Tar bort onödigt mellanrum mellan heltalsåren och utökar x-axelns intervall\n",
    "fig.update_xaxes(dtick=1, range=[2018, 2023])\n",
    "\n",
    "fig.show()\n"
   ]
  },
  {
   "cell_type": "markdown",
   "metadata": {},
   "source": [
    "b) Rita ett linjediagram för meritvärde för 16 ämnen för totalt, flickor och pojkar för läsår 18-23."
   ]
  },
  {
   "cell_type": "code",
   "execution_count": null,
   "metadata": {},
   "outputs": [],
   "source": []
  },
  {
   "cell_type": "markdown",
   "metadata": {},
   "source": [
    "c) Undersök nu andra variabler, och hur de påverkar meritvärde och andel med minst ett saknat betyg. Data finns för\n",
    "läsår 22/23. Exempel kan man undersöka föräldrarnas utbildningsbakgrund. Rita lämpliga grafer.\n"
   ]
  },
  {
   "cell_type": "code",
   "execution_count": null,
   "metadata": {},
   "outputs": [],
   "source": []
  },
  {
   "cell_type": "markdown",
   "metadata": {},
   "source": [
    "## Uppgift 2 - KPIer & EDA\n",
    "Definiera 3-6 KPIer utöver de som använts i ovanstående uppgifter och gör explorativ dataanalys på en eller flera\n",
    "dataset som ni får söka själva. Ni får inte ta dataseten som ni redan jobbat med i uppgift 0 och 1. Excel och eller csv-filer\n",
    "kan ni hitta i skolverkets statistik\n",
    "Se till att dokumentera vad du undersöker med markdown kombinerad med kod i Jupyter notebook eller om du\n",
    "använder Pythonskript, skriv en markdown vid sidan om. Dokumentera också vad du kommer fram till och spara alla\n",
    "visualiseringar."
   ]
  },
  {
   "cell_type": "code",
   "execution_count": null,
   "metadata": {},
   "outputs": [],
   "source": []
  }
 ],
 "metadata": {
  "kernelspec": {
   "display_name": "venv",
   "language": "python",
   "name": "python3"
  },
  "language_info": {
   "codemirror_mode": {
    "name": "ipython",
    "version": 3
   },
   "file_extension": ".py",
   "mimetype": "text/x-python",
   "name": "python",
   "nbconvert_exporter": "python",
   "pygments_lexer": "ipython3",
   "version": "3.11.7"
  }
 },
 "nbformat": 4,
 "nbformat_minor": 2
}
