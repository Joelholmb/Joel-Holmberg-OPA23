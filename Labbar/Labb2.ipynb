{
 "cells": [
  {
   "cell_type": "markdown",
   "metadata": {},
   "source": [
    "## Uppgifter\n",
    "Alla grafer ska exporteras till en undermapp som heter visualiseringar i ditt repo för labben. Exportera\n",
    "matplotlib/seaborngrafer i png-format och plotly-grafer som html-filer. Ge relevanta namn till dina filer så det blir lätt att\n",
    "referera till dem. Notera att du behöver ställa in bakgrundsfärg när du sparar matplotlibgrafer, annars blir de\n",
    "transparenta och svåra att läsa.\n",
    "Tänk på data storytelling, graferna du skapar ska ha lämpliga rubriker, labels, annoteringar, clutter ska tas bort, jobba\n",
    "med attention mha färger mm."
   ]
  },
  {
   "cell_type": "markdown",
   "metadata": {},
   "source": [
    "## Uppgift 0 - uppvärmning med riket\n",
    "- I den här uppgiften ska du visualisera med hjälp av matplotlib och/eller seaborn\n",
    "\n",
    "a) Börja med att läsa in filen riket2023_åk9_np.xlsx och sheets för de olika ämnena. Ändra kolumnnamnen på\n",
    "respektive dataframe så du får något liknande som nedan.\n",
    "\n",
    "\n",
    "\n",
    "\n"
   ]
  },
  {
   "cell_type": "code",
   "execution_count": null,
   "metadata": {},
   "outputs": [],
   "source": [
    "import pandas as pd\n",
    "\n",
    "df_riket = pd.read_excel(\"../data/riket2023_åk9_np.xlsx\", skiprows=8)\n",
    "\n",
    "df_riket.columns = [\"Plats\", \"Huvudman\", \"Totalt\", \"Flickor (A-F)\", \"Pojkar (A-F)\",\n",
    "              \"Totalt (A-E)\", \"Flickor (A-E)\", \"Pojkar (A-E)\",\n",
    "              \"Totalt (poäng)\", \"Flickor (poäng)\", \"Pojkar (poäng)\"]\n",
    "\n",
    "\n",
    "\n",
    "df_riket"
   ]
  },
  {
   "cell_type": "markdown",
   "metadata": {},
   "source": [
    "\n",
    "b) Ta reda på antalet som fått F i matematik totalt, pojkar respektive flickor.\n"
   ]
  },
  {
   "cell_type": "code",
   "execution_count": null,
   "metadata": {},
   "outputs": [],
   "source": [
    "# Data för betyg totalt men också i procentform för de som fått A-E. Där har jag också gjort om det till decimail så man kan räkna på det\n",
    "elevbetyg_totalt = 106766\n",
    "flickor_totalt_betyg = 51548\n",
    "pojkar_totalt_betyg = 55218\n",
    "betyg_A_E_totalt = 89.1 / 100\n",
    "betyg_A_E_flickor = 88.7 / 100\n",
    "betyg_A_E_pojkar = 89.5 / 100\n",
    "\n",
    "# Beräkna det faktiska antalet elever med A-E betyg\n",
    "betyg_A_E_totalt = elevbetyg_totalt * betyg_A_E_totalt\n",
    "betyg_A_E_flickor = flickor_totalt_betyg * betyg_A_E_flickor\n",
    "betyg_A_E_pojkar = pojkar_totalt_betyg * betyg_A_E_pojkar\n",
    "\n",
    "# Beräkna antalet elever med F betyg samt avrundar\n",
    "antal_F_totalt = round(elevbetyg_totalt - betyg_A_E_totalt)\n",
    "antal_F_flickor = round(flickor_totalt_betyg - betyg_A_E_flickor)\n",
    "antal_F_pojkar = round(pojkar_totalt_betyg - betyg_A_E_pojkar)\n",
    "\n",
    "resultat=print(f\"Totalt antal elever som har fått F i matematik: {antal_F_totalt}\\n\"\n",
    "        f\"Antal flickor som har fått F i matematik: {antal_F_flickor}\\n\"\n",
    "        f\"Antal pojkar som har fått F i matematik: {antal_F_pojkar}\")"
   ]
  },
  {
   "cell_type": "markdown",
   "metadata": {},
   "source": [
    "c) Rita ett stapeldiagram på totala poängen för de olika ämnena.\n"
   ]
  },
  {
   "cell_type": "code",
   "execution_count": 22,
   "metadata": {},
   "outputs": [
    {
     "data": {
      "image/png": "[encoded data removed]",
      "text/plain": [
       "<Figure size 640x480 with 1 Axes>"
      ]
     },
     "metadata": {},
     "output_type": "display_data"
    }
   ],
   "source": [
    "import matplotlib.pyplot as plt\n",
    "\n",
    "subjects = [\"Engelska\", \"Matematik\", \"Svenska\", \"Svenska som andraspråk\"]\n",
    "points = [15.7, 11.9, 13.6, 9.4]  \n",
    "\n",
    "plt.bar(subjects, points, color=\"Lightgreen\")\n",
    "plt.show()"
   ]
  },
  {
   "cell_type": "markdown",
   "metadata": {},
   "source": [
    "d) Rita fyra olika stapeldiagram i subplots på totala poängen för de olika ämnena för de olika huvudmännen.\n"
   ]
  },
  {
   "cell_type": "code",
   "execution_count": null,
   "metadata": {},
   "outputs": [],
   "source": []
  },
  {
   "cell_type": "markdown",
   "metadata": {},
   "source": [
    "e) Rita ett stapeldiagram i subplots på totala poängen för de olika ämnena för de olika huvudmännen.\n"
   ]
  },
  {
   "cell_type": "code",
   "execution_count": null,
   "metadata": {},
   "outputs": [],
   "source": []
  },
  {
   "cell_type": "markdown",
   "metadata": {},
   "source": [
    "## Uppgift 1 - uppvärmning betyg och prov\n",
    "I uppgifterna nedan ska du använda dig av datasetet betyg_o_prov_riksnivå.xlsx. Använd Plotly för att rita diagrammen\n",
    "nedan för de uppgifter som kräver diagram. Använd Pandas för att svara på frågor om datasetet.\n"
   ]
  },
  {
   "cell_type": "markdown",
   "metadata": {},
   "source": [
    "a) Rita ett linjediagram för andel elever som saknar godkänt betyg i ett eller fler ämnen för läsår 18-23. Ta med totalt,\n",
    "flickor och pojkar i samma graf."
   ]
  },
  {
   "cell_type": "code",
   "execution_count": null,
   "metadata": {},
   "outputs": [],
   "source": []
  },
  {
   "cell_type": "markdown",
   "metadata": {},
   "source": [
    "b) Rita ett linjediagram för meritvärde för 16 ämnen för totalt, flickor och pojkar för läsår 18-23."
   ]
  },
  {
   "cell_type": "code",
   "execution_count": null,
   "metadata": {},
   "outputs": [],
   "source": []
  },
  {
   "cell_type": "markdown",
   "metadata": {},
   "source": [
    "c) Undersök nu andra variabler, och hur de påverkar meritvärde och andel med minst ett saknat betyg. Data finns för\n",
    "läsår 22/23. Exempel kan man undersöka föräldrarnas utbildningsbakgrund. Rita lämpliga grafer.\n"
   ]
  },
  {
   "cell_type": "code",
   "execution_count": null,
   "metadata": {},
   "outputs": [],
   "source": []
  },
  {
   "cell_type": "markdown",
   "metadata": {},
   "source": [
    "## Uppgift 2 - KPIer & EDA\n",
    "Definiera 3-6 KPIer utöver de som använts i ovanstående uppgifter och gör explorativ dataanalys på en eller flera\n",
    "dataset som ni får söka själva. Ni får inte ta dataseten som ni redan jobbat med i uppgift 0 och 1. Excel och eller csv-filer\n",
    "kan ni hitta i skolverkets statistik\n",
    "Se till att dokumentera vad du undersöker med markdown kombinerad med kod i Jupyter notebook eller om du\n",
    "använder Pythonskript, skriv en markdown vid sidan om. Dokumentera också vad du kommer fram till och spara alla\n",
    "visualiseringar."
   ]
  },
  {
   "cell_type": "code",
   "execution_count": null,
   "metadata": {},
   "outputs": [],
   "source": []
  }
 ],
 "metadata": {
  "kernelspec": {
   "display_name": "venv",
   "language": "python",
   "name": "python3"
  },
  "language_info": {
   "codemirror_mode": {
    "name": "ipython",
    "version": 3
   },
   "file_extension": ".py",
   "mimetype": "text/x-python",
   "name": "python",
   "nbconvert_exporter": "python",
   "pygments_lexer": "ipython3",
   "version": "3.11.7"
  }
 },
 "nbformat": 4,
 "nbformat_minor": 2
}
