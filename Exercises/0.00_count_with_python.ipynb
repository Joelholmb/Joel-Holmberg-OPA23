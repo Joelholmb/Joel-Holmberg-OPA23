{
 "cells": [
  {
   "cell_type": "markdown",
   "metadata": {},
   "source": [
    "# Exercise - Count with Python\n",
    "\n",
    "<div style=\"max-width: 66ch;\">\n",
    "\n",
    "---\n",
    "These are introductory exercises in Python for fundamental mathematics. It is important to both know mathematics as well as Python in order to understand machine learning concepts. Also a focus here is to use Python as a tool for solving mathematical problems.\n",
    "\n",
    "<p class = \"alert alert-info\" role=\"alert\"><b>Remember</b> to use <b>variables</b> in your computations </p>\n",
    "\n",
    "<p class = \"alert alert-info\" role=\"alert\"><b>Remember</b> to format your answers in a neat way using <b>f-strings</b>\n",
    "\n",
    "The number of stars (\\*), (\\*\\*), (\\*\\*\\*) denotes the difficulty level of the task\n",
    "\n",
    "---\n",
    "\n",
    "</div>"
   ]
  },
  {
   "cell_type": "markdown",
   "metadata": {},
   "source": [
    "## 0. Pythagorean theorem (*)\n",
    "\n",
    "<div style=\"max-width: 66ch;\">\n",
    "\n",
    "&nbsp; a) &nbsp;  A right angled triangle has the catheti: a = 3 and b = 4 length units. Compute the <b>hypothenuse</b> of the triangle. (*) \n",
    "  \n",
    "&nbsp; b) &nbsp;  A right angled triangle has hypothenuse c = 7.0 and a cathetus a = 5.0 length units. Compute the other cathetus and round to one decimal. (*)\n",
    "\n",
    "<img src=\"https://github.com/kokchun/assets/blob/main/python/right-angle-triangle.png?raw=true\" width=\"200\"/>\n",
    "\n",
    "-----"
   ]
  },
  {
   "cell_type": "code",
   "execution_count": 2,
   "metadata": {},
   "outputs": [
    {
     "name": "stdout",
     "output_type": "stream",
     "text": [
      "Hypotenusan längd är: 5.0\n"
     ]
    }
   ],
   "source": [
    "# Uppgift a)\n",
    "# A right angled triangle has the catheti: a = 3 and b = 4 length units.\n",
    "# Compute the <b>hypothenuse</b> of the triangle.\n",
    "\n",
    "import math\n",
    "\n",
    "a = 3\n",
    "b = 4\n",
    "\n",
    "# math.sqrt tar kvadratroten ur summan av a + b i kvadrat\n",
    "c = math.sqrt(a**2 + b**2)\n",
    "\n",
    "print(f\"Hypotenusan längd är: {c}\")"
   ]
  },
  {
   "cell_type": "code",
   "execution_count": 3,
   "metadata": {},
   "outputs": [
    {
     "name": "stdout",
     "output_type": "stream",
     "text": [
      "Hypotenusan längd är: 5.0\n"
     ]
    }
   ],
   "source": [
    "# Uppgift a)\n",
    "# lösning utan att använda import math\n",
    "\n",
    "a = 3\n",
    "b = 4\n",
    "\n",
    "# Upphöjer summan av kvadraterna till 0.5, vilket är samma som kvadratroten\n",
    "c = (a**2 + b**2) ** 0.5\n",
    "\n",
    "print(f\"Hypotenusan längd är: {c}\")"
   ]
  },
  {
   "cell_type": "code",
   "execution_count": 23,
   "metadata": {},
   "outputs": [
    {
     "name": "stdout",
     "output_type": "stream",
     "text": [
      "Katetens längd på b är: 4.9\n"
     ]
    }
   ],
   "source": [
    "#Uppgift b)\n",
    "# A right angled triangle has hypothenuse c = 7.0 and a cathetus a = 5.0 length units.\n",
    "# Compute the other cathetus and round to one decimal.\n",
    "import math\n",
    "\n",
    "c = 7.0\n",
    "a = 5.0\n",
    "\n",
    "b = math.sqrt(c**2 - a**2)\n",
    "\n",
    "b_rounded = round(b,1)\n",
    "\n",
    "print(f\"Katetens längd på b är: {b_rounded}\")"
   ]
  },
  {
   "cell_type": "markdown",
   "metadata": {},
   "source": [
    "## 2. Classification accuracy (*)\n",
    "\n",
    "A machine learning algorithm has been trained to predict whether or not it would rain the next day. Out of 365 predictions, it got 300 correct, compute the accuracy of this model.\n",
    "\n",
    "---"
   ]
  },
  {
   "cell_type": "code",
   "execution_count": 26,
   "metadata": {},
   "outputs": [
    {
     "name": "stdout",
     "output_type": "stream",
     "text": [
      "Modellens noggranhet är: 82.2%\n"
     ]
    }
   ],
   "source": [
    "Correct_predictions = 300\n",
    "\n",
    "Total_predictions = 365\n",
    "\n",
    "Accuracy = Correct_predictions / Total_predictions\n",
    "\n",
    "print(f\"Modellens noggranhet är: {Accuracy * 100:.1f}%\")"
   ]
  },
  {
   "cell_type": "markdown",
   "metadata": {},
   "source": [
    "## 3. Classification accuracy (*)\n",
    "A machine learning model has been trained to detect fire. Here is the result of its predictions: \n",
    "\n",
    "<table style=\"display: inline-block; text-align: left;\">\n",
    "<tbody>\n",
    "  <tr>\n",
    "    <td>True Positive (TP)\n",
    "      <ul>\n",
    "        <li>Reality: fire</li>\n",
    "        <li>Predicted: fire</li>\n",
    "        <li>Number of TP: 2</li>\n",
    "      </ul>\n",
    "    </td>\n",
    "    <td>False Positive (FP)\n",
    "      <ul>\n",
    "        <li>Reality: no fire</li>\n",
    "        <li>Predicted: fire</li>\n",
    "        <li>Number of FP: 2</li>\n",
    "      </ul>\n",
    "    </td>\n",
    "  </tr>\n",
    "\n",
    "  <tr>\n",
    "    <td>False Negative (FN)\n",
    "      <ul>\n",
    "        <li>Reality: fire</li>\n",
    "        <li>Predicted: no fire</li>\n",
    "        <li>Number of FN: 11</li>\n",
    "      </ul>\n",
    "    </td>\n",
    "    <td>True Negative (TN)\n",
    "      <ul>\n",
    "        <li>Reality: no fire</li>\n",
    "        <li>Predicted: no fire</li>\n",
    "        <li>Number of TN: 985</li>\n",
    "      </ul>\n",
    "    </td>\n",
    "  </tr>\n",
    "</tbody>\n",
    "</table>\n",
    "\n",
    "\n",
    "Calculated the accuracy using the following formula:\n",
    "\n",
    "$\\text{accuracy} = \\frac{TP+TN}{TP+TN+FP+FN}$\n",
    "\n",
    "Is this a good model? Discuss with a friend.\n",
    "\n",
    "\n",
    "\n",
    "\n",
    "--- "
   ]
  },
  {
   "cell_type": "code",
   "execution_count": 31,
   "metadata": {},
   "outputs": [
    {
     "name": "stdout",
     "output_type": "stream",
     "text": [
      "Nogranheten är 98.7%\n"
     ]
    }
   ],
   "source": [
    "TP = 2\n",
    "FP = 2\n",
    "FN = 11\n",
    "TN = 985\n",
    "\n",
    "accuracy = ((TP + TN)/(TP+TN+FP+FN))\n",
    "\n",
    "print(f\"Nogranheten är {accuracy * 100:.1f}%\")\n",
    "\n",
    "# Modellen ör inte så tydlig, man kan tycka att nästan 99% är mycket men det är bara den övergripande noggranheten med allt inräknat. \n",
    "# Det kan därför vara svårt att se att den faktiskt falerat vid 11 tillfällen."
   ]
  },
  {
   "cell_type": "markdown",
   "metadata": {},
   "source": [
    "## 4. Line (*)\n",
    "Compute the slope $k$ and the constant term $m$ of this line using the points $A: (4,4)$ and $B: (0,1)$.  \n",
    "\n",
    "<img src=\"https://github.com/kokchun/assets/blob/main/python/line.png?raw=true\" width=\"300\"/>\n",
    "\n",
    "\n",
    "---"
   ]
  },
  {
   "cell_type": "code",
   "execution_count": 1,
   "metadata": {},
   "outputs": [
    {
     "name": "stdout",
     "output_type": "stream",
     "text": [
      "Lutningen för (k) är: 0.75\n",
      "Konstanten (m) är: 1.0\n"
     ]
    }
   ],
   "source": [
    "x1, y1 = 4, 4\n",
    "x2, y2= 0, 1\n",
    "\n",
    "# Beräkna lutningen k\n",
    "k = (y2 - y1) / (x2 - x1)\n",
    "\n",
    "# Beräknar m med punkterna för A (x1, y1)\n",
    "m = y1 - k * x1\n",
    "\n",
    "print(f\"Lutningen för (k) är: {k}\")\n",
    "print(f\"Konstanten (m) är: {m}\")\n",
    "\n"
   ]
  },
  {
   "cell_type": "markdown",
   "metadata": {},
   "source": [
    "## 5. Euclidean distance (*)\n",
    "\n",
    "The Euclideam distance between the points $P_1$ and $P_2$ is the length of a line between them. Let $P_1: (3,5)$ and $P_2: (-2,4)$ and compute the distance between them.\n",
    "\n",
    "\n",
    "---"
   ]
  },
  {
   "cell_type": "code",
   "execution_count": 6,
   "metadata": {},
   "outputs": [
    {
     "name": "stdout",
     "output_type": "stream",
     "text": [
      "Avståndet mellan (P1) och (P2) är: 5.1\n"
     ]
    }
   ],
   "source": [
    "import math\n",
    "\n",
    "x1, y1 = 3, 5\n",
    "x2, y2 = -2, 4\n",
    "\n",
    "distance = math.sqrt((x2 - x1)**2 + (y2 - y1)**2)\n",
    "\n",
    "print(f\"Avståndet mellan (P1) och (P2) är: {round(distance, 2)}\")"
   ]
  },
  {
   "cell_type": "markdown",
   "metadata": {},
   "source": [
    "## 6. Euclidean distance in 3D (**)\n",
    "\n",
    "Calculate the distance between the points $P_1: (2,1,4)$ and $P_2: (3,1,0)$ \n",
    "\n",
    "---\n",
    "\n",
    "</div>"
   ]
  },
  {
   "cell_type": "code",
   "execution_count": 5,
   "metadata": {},
   "outputs": [
    {
     "name": "stdout",
     "output_type": "stream",
     "text": [
      "Distansen mellan P1 cch P2 är 4\n"
     ]
    }
   ],
   "source": [
    "import math\n",
    "\n",
    "P1 = 2,1,4\n",
    "P2 = 3,1,0\n",
    "\n",
    "dx = P2[0] - P1[0]\n",
    "dy = P2[1] - P1[1]\n",
    "dz = P2[2] - P1[2]\n",
    "\n",
    "distance = math.sqrt(dx**2 + dy**2 + dz**2)\n",
    "\n",
    "print(f\"Distansen mellan P1 cch P2 är {round(distance)}\")\n"
   ]
  }
 ],
 "metadata": {
  "kernelspec": {
   "display_name": "venv",
   "language": "python",
   "name": "python3"
  },
  "language_info": {
   "codemirror_mode": {
    "name": "ipython",
    "version": 3
   },
   "file_extension": ".py",
   "mimetype": "text/x-python",
   "name": "python",
   "nbconvert_exporter": "python",
   "pygments_lexer": "ipython3",
   "version": "3.11.7"
  }
 },
 "nbformat": 4,
 "nbformat_minor": 2
}
