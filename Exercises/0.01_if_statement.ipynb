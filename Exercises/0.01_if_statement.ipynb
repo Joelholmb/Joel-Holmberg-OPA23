{
 "cells": [
  {
   "cell_type": "markdown",
   "metadata": {},
   "source": [
    "# Exercise - if-statements\n",
    "\n",
    "<div style=\"max-width: 66ch;\">\n",
    "\n",
    "---\n",
    "These are introductory exercises in Python with focus in **if** statements, which are control flow structures in programming that allows you to execute a block of code conditionally based on a specified condition.\n",
    "\n",
    "<p class = \"alert alert-info\" role=\"alert\"><b>Remember</b> to use <b>variables</b> in your computations </p>\n",
    "\n",
    "<p class = \"alert alert-info\" role=\"alert\"><b>Remember</b> to format your answers in a neat way using <b>f-strings</b>\n",
    "\n",
    "The number of stars (\\*), (\\*\\*), (\\*\\*\\*) denotes the difficulty level of the task\n",
    "\n",
    "---\n",
    "\n",
    "</div>"
   ]
  },
  {
   "cell_type": "markdown",
   "metadata": {},
   "source": [
    "## 0. Check sign (*)\n",
    "\n",
    "<div style=\"max-width: 66ch;\">\n",
    "\n",
    "Ask the user to input a number and check if this number is **positive**, **negative** or **zero** and print it out.\n",
    "\n",
    "-----"
   ]
  },
  {
   "cell_type": "code",
   "execution_count": 9,
   "metadata": {},
   "outputs": [
    {
     "name": "stdout",
     "output_type": "stream",
     "text": [
      "Numret är negativt\n"
     ]
    }
   ],
   "source": [
    "number_input = input(\"Ange ett nummer: \")\n",
    "\n",
    "number = float(number_input)\n",
    "\n",
    "if number > 0:\n",
    "    print(\"Numret är positivt\")\n",
    "elif number < 0:\n",
    "    print(\"Numret är negativt\")\n",
    "else:\n",
    "    print(\"Numret är 0\")"
   ]
  },
  {
   "cell_type": "markdown",
   "metadata": {},
   "source": [
    "## 1. Smallest (*)\n",
    "\n",
    "Ask the user to input two numbers and check which one is the smallest and print it out.   \n",
    "\n",
    "---"
   ]
  },
  {
   "cell_type": "code",
   "execution_count": 17,
   "metadata": {},
   "outputs": [
    {
     "name": "stdout",
     "output_type": "stream",
     "text": [
      "Numret som är minst är: 100\n"
     ]
    }
   ],
   "source": [
    "number1_input = input(\" Ange ett nummer\")\n",
    "number2_input = input(\" Ange ett till nummer\")\n",
    "\n",
    "number1 = float(number1_input)\n",
    "number2 = float(number2_input)\n",
    "\n",
    "if number1_input > number2_input:\n",
    "    print(f\"Numret som är minst är: {number2_input}\")\n",
    "else:\n",
    "    print(f\"Numret som är minst är: {number1_input}\")"
   ]
  },
  {
   "cell_type": "markdown",
   "metadata": {},
   "source": [
    "## 2. Right angle (*)\n",
    "\n",
    "Ask the user to input three angles and check if the triangle has a right angle. Your code should make sure that all three angles are valid and make up a triangle.\n",
    "\n",
    "<img src=\"https://github.com/kokchun/assets/blob/main/python/triangle_angles.png?raw=true\" width=\"200\"/>\n",
    "\n",
    "\n",
    "\n",
    "--- "
   ]
  },
  {
   "cell_type": "code",
   "execution_count": 27,
   "metadata": {},
   "outputs": [
    {
     "name": "stdout",
     "output_type": "stream",
     "text": [
      "Triangeln har en rät vinkel.\n"
     ]
    }
   ],
   "source": [
    "# Be användaren mata in tre vinklar\n",
    "angle1_input = input(\"Ange den första vinkeln: \")\n",
    "angle2_input = input(\"Ange den andra vinkeln: \")\n",
    "angle3_input = input(\"Ange den tredje vinkeln: \")\n",
    "\n",
    "# Konvertera inmatningarna till float\n",
    "angle1 = float(angle1_input)\n",
    "angle2 = float(angle2_input)\n",
    "angle3 = float(angle3_input)\n",
    "\n",
    "# Kontrollera att vinklarna utgör en giltig triangel\n",
    "if angle1 > 0 and angle2 > 0 and angle3 > 0 and (angle1 + angle2 + angle3) == 180:\n",
    "    # Kontrollera om triangeln har en rät vinkel\n",
    "    if angle1 == 90 or angle2 == 90 or angle3 == 90:\n",
    "        print(\"Triangeln har en rät vinkel.\")\n",
    "    else:\n",
    "        print(\"Triangeln har inte en rät vinkel.\")\n",
    "else:\n",
    "    print(\"De angivna vinklarna utgör inte en giltig triangel.\")\n"
   ]
  },
  {
   "cell_type": "markdown",
   "metadata": {},
   "source": [
    "## 3. Medicine (*)\n",
    "\n",
    "The information in the following table is stated in a medicine package. Also it is stated that for children weight is more important than age.\n",
    "\n",
    "<table style=\"display: inline-block; text-align:left;\">\n",
    "<thead>\n",
    "    <tr style=\"background-color: #174A7E; color: white;\">\n",
    "        <th></th>\n",
    "        <th>Age</th>\n",
    "        <th>Number of pills</th>\n",
    "    </tr>\n",
    "</thead>\n",
    "\n",
    "<tbody>\n",
    "  <tr>\n",
    "    <td>Adults & adolescent <br>over 40 kg</td>\n",
    "    <td>over 12 years</td>\n",
    "    <td>1-2</td>\n",
    "  </tr>\n",
    "\n",
    "  <tr>\n",
    "    <td>Children 26-40 kg</td>\n",
    "    <td>7-12 years</td>\n",
    "    <td>1/2-1</td>\n",
    "  </tr>\n",
    "\n",
    "  <tr>\n",
    "    <td>Children 15-25 kg</td>\n",
    "    <td>3-7 years</td>\n",
    "    <td>1/2</td>\n",
    "  </tr>\n",
    "</tbody>\n",
    "</table>\n",
    "\n",
    "Let the user input an **age** and a **weight**, the program should recommend the number of pills for the user.\n",
    "\n",
    "\n",
    "---"
   ]
  },
  {
   "cell_type": "code",
   "execution_count": 37,
   "metadata": {},
   "outputs": [
    {
     "name": "stdout",
     "output_type": "stream",
     "text": [
      " Rek antal piller: Prata med din läkare för rekommendation\n"
     ]
    }
   ],
   "source": [
    "age_input = int(input(\"Ange ålder: \"))\n",
    "weight_input = float(input(\"Ange vikt: \"))\n",
    "\n",
    "if age_input > 12 or weight_input > 40:\n",
    "    pill_recomendation = \"1-2\"\n",
    "elif 7 <= age_input <= 12 and 26 <= weight_input <= 40:\n",
    "    pill_recomendation = \"1/2-1\"\n",
    "elif 3 <= age_input <= 7 and 15 <= weight_input <= 25:\n",
    "    pill_recomendation = \"1/2\"\n",
    "else:\n",
    "    pill_recomendation =\"Prata med din läkare för rekommendation\"\n",
    "\n",
    "print(f\" Rek antal piller: {pill_recomendation}\")"
   ]
  },
  {
   "cell_type": "markdown",
   "metadata": {},
   "source": [
    "## 4. Divisible (*)\n",
    "Let the user input a number. Check if the number is\n",
    "<ol type=\"a\">\n",
    "  <li>even or odd</li>\n",
    "  <li>is divisible by 5</li>\n",
    "  <li>is divisble by 5 and odd</li>\n",
    "</ol> \n",
    "\n",
    "---"
   ]
  },
  {
   "cell_type": "code",
   "execution_count": 40,
   "metadata": {},
   "outputs": [
    {
     "name": "stdout",
     "output_type": "stream",
     "text": [
      "15 är udda.\n",
      "15 är delbart med 5.\n",
      "15 är udda och delbart med 5.\n"
     ]
    }
   ],
   "source": [
    "# Be användaren mata in ett nummer\n",
    "user_input = input(\"Ange ett nummer: \")\n",
    "number = int(user_input)  # Konvertera strängen till ett heltal\n",
    "\n",
    "# Kontrollera om numret är jämnt eller udda\n",
    "if number % 2 == 0:\n",
    "    print(f\"{number} är jämnt.\")\n",
    "else:\n",
    "    print(f\"{number} är udda.\")\n",
    "\n",
    "# Kontrollera om numret är delbart med 5\n",
    "if number % 5 == 0:\n",
    "    print(f\"{number} är delbart med 5.\")\n",
    "else:\n",
    "    print(f\"{number} är inte delbart med 5.\")\n",
    "\n",
    "# Kontrollera om numret är udda och delbart med 5\n",
    "if number % 2 != 0 and number % 5 == 0:\n",
    "    print(f\"{number} är udda och delbart med 5.\")\n",
    "else:\n",
    "    print(f\"{number} är inte udda och delbart med 5.\")\n"
   ]
  },
  {
   "cell_type": "markdown",
   "metadata": {},
   "source": [
    "## 5. Luggage size (*)\n",
    "\n",
    "The maximum allowed luggage size for boarding an airplane is: \n",
    "- weight: 8kg\n",
    "- dimensions: 55x40x23cm (length x width x height) \n",
    "\n",
    "Let the user input weight, length, width and height of the luggage. The program should check if the luggage is allowed or not.\n",
    "\n",
    "---"
   ]
  },
  {
   "cell_type": "code",
   "execution_count": 42,
   "metadata": {},
   "outputs": [
    {
     "name": "stdout",
     "output_type": "stream",
     "text": [
      "Bagaget är tillåtet.\n"
     ]
    }
   ],
   "source": [
    "max_weight = 8\n",
    "max_length = 55\n",
    "max_width = 40\n",
    "max_height = 23\n",
    "\n",
    "weight = float(input(\"Ange bagagets vikt i kg: \"))\n",
    "length = float(input(\"Ange bagagets längd i cm: \"))\n",
    "width = float(input(\"Ange bagagets bredd i cm: \"))\n",
    "height = float(input(\"Ange bagagets höjd i cm: \"))\n",
    "\n",
    "# Kontrollera om bagaget uppfyller kraven\n",
    "if weight <= max_weight and length <= max_length and width <= max_width and height <= max_height:\n",
    "    print(\"Bagaget är tillåtet.\")\n",
    "else:\n",
    "    print(\"Bagaget är inte tillåtet.\")\n"
   ]
  }
 ],
 "metadata": {
  "kernelspec": {
   "display_name": "venv",
   "language": "python",
   "name": "python3"
  },
  "language_info": {
   "codemirror_mode": {
    "name": "ipython",
    "version": 3
   },
   "file_extension": ".py",
   "mimetype": "text/x-python",
   "name": "python",
   "nbconvert_exporter": "python",
   "pygments_lexer": "ipython3",
   "version": "3.11.7"
  }
 },
 "nbformat": 4,
 "nbformat_minor": 2
}
